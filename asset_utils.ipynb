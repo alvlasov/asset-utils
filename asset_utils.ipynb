{
 "cells": [
  {
   "cell_type": "code",
   "execution_count": 2,
   "metadata": {
    "collapsed": false
   },
   "outputs": [],
   "source": [
    "from AssetUtils import AssetDatabase\n",
    "db = AssetDatabase()\n",
    "#db.retrieve_database()\n",
    "db.load_database('data/my_asset_database')"
   ]
  },
  {
   "cell_type": "code",
   "execution_count": 3,
   "metadata": {
    "collapsed": false,
    "scrolled": true
   },
   "outputs": [
    {
     "name": "stdout",
     "output_type": "stream",
     "text": [
      "12 entries loaded from data/my_asset_prices\n",
      "Updating historical data from 31.08.2017 for Арсагера — акции 6.4...\n",
      "Up to date.\n",
      "Updating historical data from 15.09.2017 for FXMM...\n",
      "Up to date.\n",
      "Updating historical data from 15.09.2017 for FXGD...\n",
      "Up to date.\n",
      "Updating historical data from 15.09.2017 for FXAU...\n",
      "Up to date.\n",
      "Updating historical data from 15.09.2017 for FXCN...\n",
      "Up to date.\n",
      "Updating historical data from 15.09.2017 for FXDE...\n",
      "Up to date.\n",
      "Updating historical data from 15.09.2017 for FXJP...\n",
      "Up to date.\n",
      "Updating historical data from 15.09.2017 for FXUK...\n",
      "Up to date.\n",
      "Updating historical data from 15.09.2017 for FXIT...\n",
      "Up to date.\n",
      "Updating historical data from 15.09.2017 for FXUS...\n",
      "Up to date.\n",
      "Updating historical data from 15.09.2017 for FXRL...\n",
      "Up to date.\n",
      "Updating historical data from 15.09.2017 for FXRB...\n",
      "Up to date.\n",
      "12 entries saved to data/my_asset_prices\n"
     ]
    }
   ],
   "source": [
    "db.load_asset_historicals('data/my_asset_prices')\n",
    "assets = ['Арсагера — акции 6.4', 'FXMM', 'FXGD', 'FXAU', 'FXCN', 'FXDE', 'FXJP', 'FXUK', 'FXIT', 'FXUS', 'FXRL', 'FXRB']\n",
    "for asset in assets:\n",
    "    db.update_asset_historical(asset)\n",
    "db.save_asset_historicals('data/my_asset_prices')"
   ]
  },
  {
   "cell_type": "code",
   "execution_count": null,
   "metadata": {
    "collapsed": true
   },
   "outputs": [],
   "source": []
  }
 ],
 "metadata": {
  "anaconda-cloud": {},
  "kernelspec": {
   "display_name": "Python [default]",
   "language": "python",
   "name": "python3"
  },
  "language_info": {
   "codemirror_mode": {
    "name": "ipython",
    "version": 3
   },
   "file_extension": ".py",
   "mimetype": "text/x-python",
   "name": "python",
   "nbconvert_exporter": "python",
   "pygments_lexer": "ipython3",
   "version": "3.5.2"
  }
 },
 "nbformat": 4,
 "nbformat_minor": 1
}
