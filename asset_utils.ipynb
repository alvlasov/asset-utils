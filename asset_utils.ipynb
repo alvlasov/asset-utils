{
 "cells": [
  {
   "cell_type": "code",
   "execution_count": 7,
   "metadata": {
    "collapsed": false
   },
   "outputs": [],
   "source": [
    "import AssetUtils\n",
    "from importlib import reload\n",
    "reload(AssetUtils)\n",
    "AssetDatabase = AssetUtils.AssetDatabase\n",
    "AssetPortfolio = AssetUtils.AssetPortfolio"
   ]
  },
  {
   "cell_type": "code",
   "execution_count": 512,
   "metadata": {
    "collapsed": false
   },
   "outputs": [
    {
     "name": "stdout",
     "output_type": "stream",
     "text": [
      "12 entries loaded from data/my_asset_prices\n"
     ]
    }
   ],
   "source": [
    "db = AssetDatabase()\n",
    "#db.retrieve_database()\n",
    "db.load_database('data/my_asset_database')\n",
    "db.load_asset_historicals('data/my_asset_prices')\n",
    "#assets = ['Арсагера — акции 6.4', 'FXMM']\n",
    "#for asset in assets:\n",
    "#    db.update_asset_historical(asset)"
   ]
  },
  {
   "cell_type": "code",
   "execution_count": 513,
   "metadata": {
    "collapsed": false
   },
   "outputs": [],
   "source": [
    "#db.save_asset_historicals('data/my_asset_prices_2')"
   ]
  },
  {
   "cell_type": "code",
   "execution_count": 515,
   "metadata": {
    "collapsed": false
   },
   "outputs": [
    {
     "data": {
      "text/plain": [
       "date     2015-03-31 00:00:00\n",
       "price                 2662.3\n",
       "Name: 38, dtype: object"
      ]
     },
     "execution_count": 515,
     "metadata": {},
     "output_type": "execute_result"
    }
   ],
   "source": [
    "db.get_asset_historical('Арсагера — акции 6.4', '2015.04.29')"
   ]
  },
  {
   "cell_type": "code",
   "execution_count": 8,
   "metadata": {
    "collapsed": false,
    "scrolled": true
   },
   "outputs": [
    {
     "name": "stdout",
     "output_type": "stream",
     "text": [
      "12 entries loaded from data/my_asset_prices\n"
     ]
    }
   ],
   "source": [
    "portfolio = AssetPortfolio('data/my_asset_database')\n",
    "portfolio.asset_db.load_asset_historicals('data/my_asset_prices')"
   ]
  },
  {
   "cell_type": "code",
   "execution_count": 9,
   "metadata": {
    "collapsed": false,
    "scrolled": true
   },
   "outputs": [],
   "source": [
    "# assets = ['Арсагера — акции 6.4', 'FXMM', 'FXGD', 'FXAU', 'FXCN', 'FXDE', 'FXJP', 'FXUK', 'FXIT', 'FXUS', 'FXRL', 'FXRB']\n",
    "# for asset in assets:\n",
    "#     portfolio.asset_db.update_asset_historical(asset)\n",
    "# portfolio.asset_db.save_asset_historicals('data/my_asset_prices')"
   ]
  },
  {
   "cell_type": "code",
   "execution_count": 10,
   "metadata": {
    "collapsed": false
   },
   "outputs": [],
   "source": [
    "portfolio.buy('FXRB', '2017-08-15', 1372, 1, 0.2*6)\n",
    "# portfolio.buy('FXRB', '2017-08-16', 2100, 10, 0.21*10)\n",
    "# portfolio.buy('FXRB', '2017-08-14', 1900, 5, 0.19*2)\n",
    "# portfolio.sell('FXRB', '2017-08-18', 2200, 5, 0.22*5)\n",
    "# portfolio.pay_fee('2017-08-21', 150)\n",
    "# portfolio.sell('FXRB', '2017-08-19', 2100, 5, 0.21*1)\n",
    "# portfolio.buy('FXMM', '2017-08-21', 1300, 1, 0.13*20)"
   ]
  },
  {
   "cell_type": "code",
   "execution_count": 11,
   "metadata": {
    "collapsed": false
   },
   "outputs": [
    {
     "name": "stdout",
     "output_type": "stream",
     "text": [
      "0   FXRB\t 2017-08-15\t buy\t 1372.00\t 1.00\t 1.20\n"
     ]
    }
   ],
   "source": [
    "portfolio.list_positions()"
   ]
  },
  {
   "cell_type": "code",
   "execution_count": 12,
   "metadata": {
    "collapsed": false
   },
   "outputs": [
    {
     "name": "stdout",
     "output_type": "stream",
     "text": [
      "1372\n",
      "1.2000000000000002\n",
      "0\n",
      "1401.0\n",
      "27.8\n"
     ]
    }
   ],
   "source": [
    "print(portfolio.get_money_invested())\n",
    "print(portfolio.get_fee())\n",
    "print(portfolio.get_money_withdrawn())\n",
    "print(portfolio.get_portfolio_price_today())\n",
    "print(portfolio.get_profit())"
   ]
  },
  {
   "cell_type": "code",
   "execution_count": 14,
   "metadata": {
    "collapsed": false
   },
   "outputs": [
    {
     "data": {
      "text/html": [
       "<div>\n",
       "<style>\n",
       "    .dataframe thead tr:only-child th {\n",
       "        text-align: right;\n",
       "    }\n",
       "\n",
       "    .dataframe thead th {\n",
       "        text-align: left;\n",
       "    }\n",
       "\n",
       "    .dataframe tbody tr th {\n",
       "        vertical-align: top;\n",
       "    }\n",
       "</style>\n",
       "<table border=\"1\" class=\"dataframe\">\n",
       "  <thead>\n",
       "    <tr style=\"text-align: right;\">\n",
       "      <th></th>\n",
       "      <th>date</th>\n",
       "      <th>price</th>\n",
       "    </tr>\n",
       "  </thead>\n",
       "  <tbody>\n",
       "    <tr>\n",
       "      <th>0</th>\n",
       "      <td>2017-08-01</td>\n",
       "      <td>0.0</td>\n",
       "    </tr>\n",
       "    <tr>\n",
       "      <th>1</th>\n",
       "      <td>2017-08-02</td>\n",
       "      <td>0.0</td>\n",
       "    </tr>\n",
       "    <tr>\n",
       "      <th>2</th>\n",
       "      <td>2017-08-03</td>\n",
       "      <td>0.0</td>\n",
       "    </tr>\n",
       "    <tr>\n",
       "      <th>3</th>\n",
       "      <td>2017-08-04</td>\n",
       "      <td>0.0</td>\n",
       "    </tr>\n",
       "    <tr>\n",
       "      <th>4</th>\n",
       "      <td>2017-08-05</td>\n",
       "      <td>0.0</td>\n",
       "    </tr>\n",
       "    <tr>\n",
       "      <th>5</th>\n",
       "      <td>2017-08-06</td>\n",
       "      <td>0.0</td>\n",
       "    </tr>\n",
       "    <tr>\n",
       "      <th>6</th>\n",
       "      <td>2017-08-07</td>\n",
       "      <td>0.0</td>\n",
       "    </tr>\n",
       "    <tr>\n",
       "      <th>7</th>\n",
       "      <td>2017-08-08</td>\n",
       "      <td>0.0</td>\n",
       "    </tr>\n",
       "    <tr>\n",
       "      <th>8</th>\n",
       "      <td>2017-08-09</td>\n",
       "      <td>0.0</td>\n",
       "    </tr>\n",
       "    <tr>\n",
       "      <th>9</th>\n",
       "      <td>2017-08-10</td>\n",
       "      <td>0.0</td>\n",
       "    </tr>\n",
       "    <tr>\n",
       "      <th>10</th>\n",
       "      <td>2017-08-11</td>\n",
       "      <td>0.0</td>\n",
       "    </tr>\n",
       "    <tr>\n",
       "      <th>11</th>\n",
       "      <td>2017-08-12</td>\n",
       "      <td>0.0</td>\n",
       "    </tr>\n",
       "    <tr>\n",
       "      <th>12</th>\n",
       "      <td>2017-08-13</td>\n",
       "      <td>0.0</td>\n",
       "    </tr>\n",
       "    <tr>\n",
       "      <th>13</th>\n",
       "      <td>2017-08-14</td>\n",
       "      <td>0.0</td>\n",
       "    </tr>\n",
       "    <tr>\n",
       "      <th>14</th>\n",
       "      <td>2017-08-15</td>\n",
       "      <td>1374.0</td>\n",
       "    </tr>\n",
       "    <tr>\n",
       "      <th>15</th>\n",
       "      <td>2017-08-16</td>\n",
       "      <td>1374.0</td>\n",
       "    </tr>\n",
       "    <tr>\n",
       "      <th>16</th>\n",
       "      <td>2017-08-17</td>\n",
       "      <td>1375.0</td>\n",
       "    </tr>\n",
       "    <tr>\n",
       "      <th>17</th>\n",
       "      <td>2017-08-18</td>\n",
       "      <td>1376.0</td>\n",
       "    </tr>\n",
       "    <tr>\n",
       "      <th>18</th>\n",
       "      <td>2017-08-19</td>\n",
       "      <td>1376.0</td>\n",
       "    </tr>\n",
       "    <tr>\n",
       "      <th>19</th>\n",
       "      <td>2017-08-20</td>\n",
       "      <td>1376.0</td>\n",
       "    </tr>\n",
       "    <tr>\n",
       "      <th>20</th>\n",
       "      <td>2017-08-21</td>\n",
       "      <td>1379.0</td>\n",
       "    </tr>\n",
       "    <tr>\n",
       "      <th>21</th>\n",
       "      <td>2017-08-22</td>\n",
       "      <td>1377.0</td>\n",
       "    </tr>\n",
       "    <tr>\n",
       "      <th>22</th>\n",
       "      <td>2017-08-23</td>\n",
       "      <td>1380.0</td>\n",
       "    </tr>\n",
       "    <tr>\n",
       "      <th>23</th>\n",
       "      <td>2017-08-24</td>\n",
       "      <td>1381.0</td>\n",
       "    </tr>\n",
       "    <tr>\n",
       "      <th>24</th>\n",
       "      <td>2017-08-25</td>\n",
       "      <td>1384.0</td>\n",
       "    </tr>\n",
       "    <tr>\n",
       "      <th>25</th>\n",
       "      <td>2017-08-26</td>\n",
       "      <td>1384.0</td>\n",
       "    </tr>\n",
       "    <tr>\n",
       "      <th>26</th>\n",
       "      <td>2017-08-27</td>\n",
       "      <td>1384.0</td>\n",
       "    </tr>\n",
       "    <tr>\n",
       "      <th>27</th>\n",
       "      <td>2017-08-28</td>\n",
       "      <td>1386.0</td>\n",
       "    </tr>\n",
       "    <tr>\n",
       "      <th>28</th>\n",
       "      <td>2017-08-29</td>\n",
       "      <td>1391.0</td>\n",
       "    </tr>\n",
       "    <tr>\n",
       "      <th>29</th>\n",
       "      <td>2017-08-30</td>\n",
       "      <td>1389.0</td>\n",
       "    </tr>\n",
       "    <tr>\n",
       "      <th>30</th>\n",
       "      <td>2017-08-31</td>\n",
       "      <td>1389.0</td>\n",
       "    </tr>\n",
       "    <tr>\n",
       "      <th>31</th>\n",
       "      <td>2017-09-01</td>\n",
       "      <td>1388.0</td>\n",
       "    </tr>\n",
       "  </tbody>\n",
       "</table>\n",
       "</div>"
      ],
      "text/plain": [
       "         date   price\n",
       "0  2017-08-01     0.0\n",
       "1  2017-08-02     0.0\n",
       "2  2017-08-03     0.0\n",
       "3  2017-08-04     0.0\n",
       "4  2017-08-05     0.0\n",
       "5  2017-08-06     0.0\n",
       "6  2017-08-07     0.0\n",
       "7  2017-08-08     0.0\n",
       "8  2017-08-09     0.0\n",
       "9  2017-08-10     0.0\n",
       "10 2017-08-11     0.0\n",
       "11 2017-08-12     0.0\n",
       "12 2017-08-13     0.0\n",
       "13 2017-08-14     0.0\n",
       "14 2017-08-15  1374.0\n",
       "15 2017-08-16  1374.0\n",
       "16 2017-08-17  1375.0\n",
       "17 2017-08-18  1376.0\n",
       "18 2017-08-19  1376.0\n",
       "19 2017-08-20  1376.0\n",
       "20 2017-08-21  1379.0\n",
       "21 2017-08-22  1377.0\n",
       "22 2017-08-23  1380.0\n",
       "23 2017-08-24  1381.0\n",
       "24 2017-08-25  1384.0\n",
       "25 2017-08-26  1384.0\n",
       "26 2017-08-27  1384.0\n",
       "27 2017-08-28  1386.0\n",
       "28 2017-08-29  1391.0\n",
       "29 2017-08-30  1389.0\n",
       "30 2017-08-31  1389.0\n",
       "31 2017-09-01  1388.0"
      ]
     },
     "execution_count": 14,
     "metadata": {},
     "output_type": "execute_result"
    }
   ],
   "source": [
    "portfolio.get_portfolio_price_span('2017-08-01', '2017-09-01')"
   ]
  },
  {
   "cell_type": "code",
   "execution_count": null,
   "metadata": {
    "collapsed": true
   },
   "outputs": [],
   "source": []
  }
 ],
 "metadata": {
  "anaconda-cloud": {},
  "kernelspec": {
   "display_name": "Python [default]",
   "language": "python",
   "name": "python3"
  },
  "language_info": {
   "codemirror_mode": {
    "name": "ipython",
    "version": 3
   },
   "file_extension": ".py",
   "mimetype": "text/x-python",
   "name": "python",
   "nbconvert_exporter": "python",
   "pygments_lexer": "ipython3",
   "version": "3.5.2"
  }
 },
 "nbformat": 4,
 "nbformat_minor": 1
}
