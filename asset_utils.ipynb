{
 "cells": [
  {
   "cell_type": "code",
   "execution_count": 1,
   "metadata": {
    "collapsed": true
   },
   "outputs": [],
   "source": [
    "import AssetUtils\n",
    "import numpy as np\n",
    "from importlib import reload\n",
    "reload(AssetUtils)\n",
    "AssetDatabase = AssetUtils.AssetDatabase\n",
    "AssetPortfolio = AssetUtils.AssetPortfolio"
   ]
  },
  {
   "cell_type": "code",
   "execution_count": 2,
   "metadata": {
    "scrolled": true
   },
   "outputs": [
    {
     "name": "stdout",
     "output_type": "stream",
     "text": [
      "12 entries loaded from data/my_asset_prices\n"
     ]
    }
   ],
   "source": [
    "portfolio = AssetPortfolio('data/my_asset_database')\n",
    "portfolio.asset_db.load_asset_historicals('data/my_asset_prices')"
   ]
  },
  {
   "cell_type": "code",
   "execution_count": 3,
   "metadata": {
    "collapsed": true,
    "scrolled": true
   },
   "outputs": [],
   "source": [
    "# assets = ['Арсагера — акции 6.4', 'FXMM', 'FXGD', 'FXAU', 'FXCN', 'FXDE', 'FXJP', 'FXUK', 'FXIT', 'FXUS', 'FXRL', 'FXRB']\n",
    "# for asset in assets:\n",
    "#     portfolio.asset_db.update_asset_historical(asset)\n",
    "# portfolio.asset_db.save_asset_historicals('data/my_asset_prices')"
   ]
  },
  {
   "cell_type": "code",
   "execution_count": 4,
   "metadata": {
    "collapsed": true
   },
   "outputs": [],
   "source": [
    "portfolio.add_asset('FXRL')\n",
    "portfolio.add_asset('FXDE')"
   ]
  },
  {
   "cell_type": "code",
   "execution_count": 5,
   "metadata": {
    "collapsed": true
   },
   "outputs": [],
   "source": [
    "portfolio.buy('FXRL', '2017-08-15', 1372, 1, 0.2*6)\n",
    "portfolio.buy('FXDE', '2017-08-25', 2100, 1, 0.21*10)\n",
    "# portfolio.buy('FXRB', '2017-08-14', 1900, 5, 0.19*2)\n",
    "# portfolio.sell('FXRB', '2017-08-18', 2200, 5, 0.22*5)\n",
    "# portfolio.pay_fee('2017-08-21', 150)\n",
    "# portfolio.sell('FXRB', '2017-08-19', 2100, 5, 0.21*1)\n",
    "# portfolio.buy('FXMM', '2017-08-21', 1300, 1, 0.13*20)"
   ]
  },
  {
   "cell_type": "code",
   "execution_count": 6,
   "metadata": {},
   "outputs": [
    {
     "name": "stdout",
     "output_type": "stream",
     "text": [
      "0   FXRL\t 2017-08-15\t buy\t 1372.00\t 1.00\t 1.20\n",
      "1   FXDE\t 2017-08-25\t buy\t 2100.00\t 1.00\t 2.10\n"
     ]
    }
   ],
   "source": [
    "portfolio.list_positions()"
   ]
  },
  {
   "cell_type": "code",
   "execution_count": 7,
   "metadata": {},
   "outputs": [
    {
     "name": "stdout",
     "output_type": "stream",
     "text": [
      "3472\n",
      "3.3000000000000003\n",
      "0\n",
      "3916.5\n",
      "441.2\n"
     ]
    }
   ],
   "source": [
    "print(portfolio.get_money_invested())\n",
    "print(portfolio.get_fee())\n",
    "print(portfolio.get_money_withdrawn())\n",
    "print(portfolio.get_portfolio_price_today())\n",
    "print(portfolio.get_profit())"
   ]
  },
  {
   "cell_type": "code",
   "execution_count": 8,
   "metadata": {
    "collapsed": true
   },
   "outputs": [],
   "source": [
    "df = portfolio.get_portfolio_price_span('2017-08-16', '2017-09-15')"
   ]
  },
  {
   "cell_type": "code",
   "execution_count": 12,
   "metadata": {
    "collapsed": true
   },
   "outputs": [],
   "source": [
    "import matplotlib.pyplot as plt\n",
    "%matplotlib inline"
   ]
  },
  {
   "cell_type": "code",
   "execution_count": 23,
   "metadata": {
    "scrolled": true
   },
   "outputs": [
    {
     "data": {
      "image/png": "[encoded data removed]",
      "text/plain": [
       "<matplotlib.figure.Figure at 0x26097469048>"
      ]
     },
     "metadata": {},
     "output_type": "display_data"
    }
   ],
   "source": [
    "plt.style.use('seaborn')\n",
    "\n",
    "plt.figure(figsize = (16, 9))\n",
    "plt.plot(df['date'], df['price']);\n",
    "plt.gcf().autofmt_xdate()\n",
    "plt.grid()\n",
    "plt.show()"
   ]
  },
  {
   "cell_type": "code",
   "execution_count": 9,
   "metadata": {},
   "outputs": [
    {
     "name": "stdout",
     "output_type": "stream",
     "text": [
      "Updating historical data (last was 18.09.2017) for FXRL...\n",
      "Success!\n",
      "Updating historical data (last was 18.09.2017) for FXDE...\n",
      "Success!\n"
     ]
    }
   ],
   "source": [
    "portfolio.asset_db.update_asset_historical('FXRL')\n",
    "portfolio.asset_db.update_asset_historical('FXDE')"
   ]
  },
  {
   "cell_type": "code",
   "execution_count": 10,
   "metadata": {
    "collapsed": true
   },
   "outputs": [],
   "source": [
    "from datetime import date as date_\n",
    "import pandas as pd"
   ]
  },
  {
   "cell_type": "code",
   "execution_count": 23,
   "metadata": {
    "collapsed": true
   },
   "outputs": [],
   "source": [
    "def build_week_statistics():\n",
    "    date = pd.to_datetime(date_.today())\n",
    "    state = get_portfolio_state(date)\n",
    "    state['Date'] = date\n",
    "    \n",
    "    weekday = date.weekday()\n",
    "    week = pd.Timedelta(weeks = 1)\n",
    "    prev_date = date - pd.Timedelta(days = weekday)\n",
    "    states = []\n",
    "    while True:\n",
    "        \n",
    "        prev_state = get_portfolio_state(prev_date)\n",
    "        \n",
    "        for key in prev_state.keys():\n",
    "            if prev_state[key] != 0:\n",
    "                state[str(key) + ' Change'] = '%.2f' % ((state[key] - prev_state[key]) / prev_state[key] * 100)\n",
    "            else:\n",
    "                state[str(key) + ' Change'] = float('nan')\n",
    "        \n",
    "        prev_state['Date'] = prev_date\n",
    "#         print(state)\n",
    "        states.append(state)\n",
    "        date = prev_date\n",
    "        prev_date -= week\n",
    "        state = prev_state\n",
    "        \n",
    "        if state['Portfolio'] == 0:\n",
    "            break\n",
    "#     print(state)\n",
    "    return states\n",
    "    \n",
    "def get_portfolio_state(date):\n",
    "    state = {}\n",
    "    for asset in portfolio.asset_list:\n",
    "        state[asset] = portfolio.asset_db.get_asset_historical(asset, date)['price'] \n",
    "    state['Portfolio'] = portfolio.get_portfolio_price(date)\n",
    "    return state\n"
   ]
  },
  {
   "cell_type": "code",
   "execution_count": 24,
   "metadata": {
    "scrolled": false
   },
   "outputs": [],
   "source": [
    "stats = build_week_statistics()\n",
    "df = pd.DataFrame.from_dict(stats)"
   ]
  },
  {
   "cell_type": "code",
   "execution_count": 25,
   "metadata": {},
   "outputs": [
    {
     "data": {
      "text/html": [
       "<div>\n",
       "<style>\n",
       "    .dataframe thead tr:only-child th {\n",
       "        text-align: right;\n",
       "    }\n",
       "\n",
       "    .dataframe thead th {\n",
       "        text-align: left;\n",
       "    }\n",
       "\n",
       "    .dataframe tbody tr th {\n",
       "        vertical-align: top;\n",
       "    }\n",
       "</style>\n",
       "<table border=\"1\" class=\"dataframe\">\n",
       "  <thead>\n",
       "    <tr style=\"text-align: right;\">\n",
       "      <th></th>\n",
       "      <th>Date</th>\n",
       "      <th>FXDE</th>\n",
       "      <th>FXDE Change</th>\n",
       "      <th>FXRL</th>\n",
       "      <th>FXRL Change</th>\n",
       "      <th>Portfolio</th>\n",
       "      <th>Portfolio Change</th>\n",
       "    </tr>\n",
       "  </thead>\n",
       "  <tbody>\n",
       "    <tr>\n",
       "      <th>0</th>\n",
       "      <td>2017-09-28</td>\n",
       "      <td>2060.0</td>\n",
       "      <td>1.08</td>\n",
       "      <td>1869.0</td>\n",
       "      <td>0.38</td>\n",
       "      <td>3929.0</td>\n",
       "      <td>0.74</td>\n",
       "    </tr>\n",
       "    <tr>\n",
       "      <th>1</th>\n",
       "      <td>2017-09-25</td>\n",
       "      <td>2038.0</td>\n",
       "      <td>-1.38</td>\n",
       "      <td>1862.0</td>\n",
       "      <td>0.65</td>\n",
       "      <td>3900.0</td>\n",
       "      <td>-0.42</td>\n",
       "    </tr>\n",
       "    <tr>\n",
       "      <th>2</th>\n",
       "      <td>2017-09-18</td>\n",
       "      <td>2066.5</td>\n",
       "      <td>1.85</td>\n",
       "      <td>1850.0</td>\n",
       "      <td>0.98</td>\n",
       "      <td>3916.5</td>\n",
       "      <td>1.44</td>\n",
       "    </tr>\n",
       "    <tr>\n",
       "      <th>3</th>\n",
       "      <td>2017-09-11</td>\n",
       "      <td>2029.0</td>\n",
       "      <td>2.27</td>\n",
       "      <td>1832.0</td>\n",
       "      <td>1.61</td>\n",
       "      <td>3861.0</td>\n",
       "      <td>1.95</td>\n",
       "    </tr>\n",
       "    <tr>\n",
       "      <th>4</th>\n",
       "      <td>2017-09-04</td>\n",
       "      <td>1984.0</td>\n",
       "      <td>-1.95</td>\n",
       "      <td>1803.0</td>\n",
       "      <td>1.24</td>\n",
       "      <td>3787.0</td>\n",
       "      <td>-0.46</td>\n",
       "    </tr>\n",
       "    <tr>\n",
       "      <th>5</th>\n",
       "      <td>2017-08-28</td>\n",
       "      <td>2023.5</td>\n",
       "      <td>0.92</td>\n",
       "      <td>1781.0</td>\n",
       "      <td>2.62</td>\n",
       "      <td>3804.5</td>\n",
       "      <td>119.22</td>\n",
       "    </tr>\n",
       "    <tr>\n",
       "      <th>6</th>\n",
       "      <td>2017-08-21</td>\n",
       "      <td>2005.0</td>\n",
       "      <td>-1.45</td>\n",
       "      <td>1735.5</td>\n",
       "      <td>-0.94</td>\n",
       "      <td>1735.5</td>\n",
       "      <td>NaN</td>\n",
       "    </tr>\n",
       "  </tbody>\n",
       "</table>\n",
       "</div>"
      ],
      "text/plain": [
       "        Date    FXDE FXDE Change    FXRL FXRL Change  Portfolio  \\\n",
       "0 2017-09-28  2060.0        1.08  1869.0        0.38     3929.0   \n",
       "1 2017-09-25  2038.0       -1.38  1862.0        0.65     3900.0   \n",
       "2 2017-09-18  2066.5        1.85  1850.0        0.98     3916.5   \n",
       "3 2017-09-11  2029.0        2.27  1832.0        1.61     3861.0   \n",
       "4 2017-09-04  1984.0       -1.95  1803.0        1.24     3787.0   \n",
       "5 2017-08-28  2023.5        0.92  1781.0        2.62     3804.5   \n",
       "6 2017-08-21  2005.0       -1.45  1735.5       -0.94     1735.5   \n",
       "\n",
       "  Portfolio Change  \n",
       "0             0.74  \n",
       "1            -0.42  \n",
       "2             1.44  \n",
       "3             1.95  \n",
       "4            -0.46  \n",
       "5           119.22  \n",
       "6              NaN  "
      ]
     },
     "execution_count": 25,
     "metadata": {},
     "output_type": "execute_result"
    }
   ],
   "source": [
    "df"
   ]
  },
  {
   "cell_type": "code",
   "execution_count": null,
   "metadata": {
    "collapsed": true
   },
   "outputs": [],
   "source": []
  }
 ],
 "metadata": {
  "anaconda-cloud": {},
  "kernelspec": {
   "display_name": "Python 3",
   "language": "python",
   "name": "python3"
  },
  "language_info": {
   "codemirror_mode": {
    "name": "ipython",
    "version": 3
   },
   "file_extension": ".py",
   "mimetype": "text/x-python",
   "name": "python",
   "nbconvert_exporter": "python",
   "pygments_lexer": "ipython3",
   "version": "3.6.1"
  }
 },
 "nbformat": 4,
 "nbformat_minor": 1
}
